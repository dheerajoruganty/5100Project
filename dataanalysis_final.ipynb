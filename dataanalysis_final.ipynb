{
  "cells": [
    {
      "cell_type": "code",
      "execution_count": 1,
      "metadata": {
        "vscode": {
          "languageId": "r"
        }
      },
      "outputs": [],
      "source": [
        "df = read.csv('data_final.csv')\n"
      ]
    },
    {
      "cell_type": "markdown",
      "metadata": {},
      "source": [
        "## Does South East Asia Region have more NO<sub>2</sub> emissions than the European Region in 2019?\n",
        "\n",
        "$H_0$: The NO<sub>2</sub> emissions in the South East Asia Region and European Region are similar.    \n",
        "$H_1$: The NO<sub>2</sub> emissions in the South East Asia Region is greater than in the European Region.    \n",
        "\n",
        "Method: Welch Two Sample t-test\n",
        "  \n",
        "Conclusion: p-value was less than 0.05, which rejects the null hypothesis.  \n"
      ]
    },
    {
      "cell_type": "code",
      "execution_count": 2,
      "metadata": {
        "vscode": {
          "languageId": "r"
        }
      },
      "outputs": [
        {
          "name": "stdout",
          "output_type": "stream",
          "text": [
            "\n",
            "\tWelch Two Sample t-test\n",
            "\n",
            "data:  sea2 and eur2\n",
            "t = 6.1356, df = 246.22, p-value = 1.682e-09\n",
            "alternative hypothesis: true difference in means is greater than 0\n",
            "95 percent confidence interval:\n",
            " 4.023139      Inf\n",
            "sample estimates:\n",
            "mean of x mean of y \n",
            " 23.53045  18.02611 \n",
            "\n"
          ]
        }
      ],
      "source": [
        "df2019 <- df[df$Measurement.Year==2019, ]\n",
        "\n",
        "sea2 <- subset(df2019, select=NO2....g.m3.,\n",
        "                      subset=WHO.Region==\"South East Asia Region\", drop=T)\n",
        "\n",
        "eur2  <- subset(df2019, select=NO2....g.m3.,\n",
        "                      subset=WHO.Region==\"European Region\", drop=T)\n",
        "\n",
        "print(t.test(sea2, eur2, alt=\"greater\"))"
      ]
    },
    {
      "cell_type": "markdown",
      "metadata": {},
      "source": [
        "## Given that South East Asian has greater NO<sub>2</sub> emissions than Europe, additional testing was performed on France and India. \n",
        "\n",
        "## Does France have less NO<sub>2</sub> emissions in 2016 than in 2010? \n",
        "\n",
        "Method: Two-sample boostrap test for the ratio of means of NO<sub>2</sub>.\n",
        "\n",
        "$H_0$: France did not decrease NO<sub>2</sub> emissions in 2016 compared to 2010.  \n",
        "$H_1$: France did decrease NO<sub>2</sub> emissions in 2016 compared to 2010.\n",
        "\n",
        "The bootstrap tests also shows there is 95% confidence in the alternative hypothesis.  \n",
        "\n",
        "Yes, France has decreased their NO<sub>2</sub> emissions in 2016.  \n"
      ]
    },
    {
      "cell_type": "code",
      "execution_count": 3,
      "metadata": {
        "vscode": {
          "languageId": "r"
        }
      },
      "outputs": [
        {
          "data": {
            "text/plain": [
              "\n",
              "\tWelch Two Sample t-test\n",
              "\n",
              "data:  france2016 and france2010\n",
              "t = -4.3778, df = 597.82, p-value = 7.075e-06\n",
              "alternative hypothesis: true difference in means is less than 0\n",
              "95 percent confidence interval:\n",
              "      -Inf -2.275993\n",
              "sample estimates:\n",
              "mean of x mean of y \n",
              " 19.30578  22.95500 \n"
            ]
          },
          "metadata": {},
          "output_type": "display_data"
        }
      ],
      "source": [
        "df_france <- df[df$WHO.Country.Name==\"France\", ]\n",
        "\n",
        "france2010 <- subset(df_france, select=NO2....g.m3.,\n",
        "                      subset=Measurement.Year==\"2010\", drop=T)\n",
        "\n",
        "france2016  <- subset(df_france, select=NO2....g.m3.,\n",
        "                      subset=Measurement.Year==\"2016\", drop=T)\n",
        "\n",
        "t.test(france2016, france2010, alt=\"less\")"
      ]
    },
    {
      "cell_type": "code",
      "execution_count": 4,
      "metadata": {
        "vscode": {
          "languageId": "r"
        }
      },
      "outputs": [
        {
          "data": {
            "text/html": [
              "<style>\n",
              ".dl-inline {width: auto; margin:0; padding: 0}\n",
              ".dl-inline>dt, .dl-inline>dd {float: none; width: auto; display: inline-block}\n",
              ".dl-inline>dt::after {content: \":\\0020\"; padding-right: .5ex}\n",
              ".dl-inline>dt:not(:first-of-type) {padding-left: .5ex}\n",
              "</style><dl class=dl-inline><dt>2.5%</dt><dd>0.785079115839097</dd><dt>97.5%</dt><dd>1.83994455808886</dd></dl>\n"
            ],
            "text/latex": [
              "\\begin{description*}\n",
              "\\item[2.5\\textbackslash{}\\%] 0.785079115839097\n",
              "\\item[97.5\\textbackslash{}\\%] 1.83994455808886\n",
              "\\end{description*}\n"
            ],
            "text/markdown": [
              "2.5%\n",
              ":   0.78507911583909797.5%\n",
              ":   1.83994455808886\n",
              "\n"
            ],
            "text/plain": [
              "     2.5%     97.5% \n",
              "0.7850791 1.8399446 "
            ]
          },
          "metadata": {},
          "output_type": "display_data"
        },
        {
          "name": "stdout",
          "output_type": "stream",
          "text": [
            "[1] \"The estimated bias is 0.033\"\n"
          ]
        }
      ],
      "source": [
        "df_france <- df[df$WHO.Country.Name==\"France\", ]\n",
        "df_france_2010 <- df_france[df_france$Measurement.Year == \"2010\", ]\n",
        "df_france_2016 <- df_france[df_france$Measurement.Year == \"2016\", ]\n",
        "N <- 100000\n",
        "\n",
        "ratiomeans<- numeric(N)\n",
        "\n",
        "for (i in 1:N)\n",
        "{\n",
        "  fr_sample_2010 <- sample(df_france_2010$NO2....g.m3.[df_france_2010$Measurement.Year == '2010'], length(df_france_2010), replace = TRUE)\n",
        "  fr_sample_2016 <- sample(df_france_2016$NO2....g.m3.[df_france_2016$Measurement.Year == '2016'], length(df_france_2016), replace = TRUE)\n",
        "  ratiomeans[i] <- mean(fr_sample_2010)/mean(fr_sample_2016)\n",
        "}\n",
        "\n",
        "quantile(ratiomeans, c(0.025, 0.975))\n",
        "\n",
        "fr_mean_2010 <- mean(df_france_2010$NO2....g.m3.[df_france_2010$Measurement.Year == '2010'])\n",
        "fr_mean_2016 <- mean(df_france_2016$NO2....g.m3.[df_france_2016$Measurement.Year == '2016'])\n",
        "ratio_actual <- fr_mean_2010/fr_mean_2016\n",
        "bias= round(mean(ratiomeans)-mean(ratio_actual), digits = 3) #estimated bias\n",
        "\n",
        "print(paste(\"The estimated bias is\", bias))"
      ]
    },
    {
      "cell_type": "markdown",
      "metadata": {},
      "source": [
        "## Does India have less NO<sub>2</sub> emissions in 2018 than in 2014?  \n",
        "\n",
        "Method: t-test\n",
        "\n",
        "$H_0$: India did not decrease NO<sub>2</sub> emissions in 2018 compared to 2014.  \n",
        "$H_1$: India did decrease NO<sub>2</sub> emissions in 2018 compared to 2014.\n",
        "\n",
        "The p-value is greater than 0.05, which fails to reject the null hypothesis.\n",
        "\n",
        "R library: t-test[^1]\n",
        "\n",
        "[^1]: T.test: Student’s t-test. RDocumentation. (n.d.).\n",
        "https://www.rdocumentation.org/packages/stats/versions/3.6.2/topics/t.test"
      ]
    },
    {
      "cell_type": "code",
      "execution_count": 5,
      "metadata": {
        "vscode": {
          "languageId": "r"
        }
      },
      "outputs": [
        {
          "name": "stdout",
          "output_type": "stream",
          "text": [
            "\n",
            "\tWelch Two Sample t-test\n",
            "\n",
            "data:  india2018 and india2014\n",
            "t = 1.0464, df = 268.02, p-value = 0.8518\n",
            "alternative hypothesis: true difference in means is less than 0\n",
            "95 percent confidence interval:\n",
            "     -Inf 4.302835\n",
            "sample estimates:\n",
            "mean of x mean of y \n",
            " 23.35289  21.68338 \n",
            "\n"
          ]
        }
      ],
      "source": [
        "df_india <- df[df$WHO.Country.Name==\"India\", ]\n",
        "\n",
        "india2014 <- subset(df_india, select=NO2....g.m3.,\n",
        "                      subset=Measurement.Year==2014, drop=T)\n",
        "\n",
        "india2018  <- subset(df_india, select=NO2....g.m3.,\n",
        "                      subset=Measurement.Year==2018, drop=T)\n",
        "\n",
        "print(t.test(india2018, india2014, alt=\"less\"))\n"
      ]
    },
    {
      "cell_type": "markdown",
      "metadata": {},
      "source": [
        "## WHO Nitrogen Dioxide Guidelines\n",
        "\n",
        "According to the existing WHO air quality guidelines, an annual average indoor nitrogen dioxide guideline of 40 μg/m3 is recommended. In the WHO dataset, a new column was added labeling NO<sub>2</sub> above and within 40 μg/m3[^1]. \n",
        "\n",
        "Objective: To assess if global compliance with recommended NO<sub>2</sub> is dependent on year.\n",
        "\n",
        "Method: Chi-squared test  \n",
        "\n",
        "\n",
        "[^1]: Jarvis DJ, Adamkiewicz G, Heroux ME, et al. Nitrogen dioxide. In: WHO Guidelines for Indoor Air Quality: Selected Pollutants. Geneva: World Health Organization; 2010. 5. Available from: https://www.ncbi.nlm.nih.gov/books/NBK138707/\n"
      ]
    },
    {
      "cell_type": "code",
      "execution_count": 6,
      "metadata": {
        "vscode": {
          "languageId": "r"
        }
      },
      "outputs": [],
      "source": [
        "df$WHO.Guideline <- ifelse(df$NO2....g.m3. >= 41.0, \"above\", \"within\")\n"
      ]
    },
    {
      "cell_type": "code",
      "execution_count": 7,
      "metadata": {
        "vscode": {
          "languageId": "r"
        }
      },
      "outputs": [
        {
          "data": {
            "text/plain": [
              "      \n",
              "       above within\n",
              "  2013   119   1347\n",
              "  2014   111   1520\n",
              "  2015   103   1869\n",
              "  2016   118   2056\n",
              "  2017   104   2149\n",
              "  2018    91   2317\n",
              "  2019    53   2409"
            ]
          },
          "metadata": {},
          "output_type": "display_data"
        },
        {
          "name": "stdout",
          "output_type": "stream",
          "text": [
            "\n",
            "\tPearson's Chi-squared test\n",
            "\n",
            "data:  table_year\n",
            "X-squared = 94.367, df = 6, p-value < 2.2e-16\n",
            "\n"
          ]
        }
      ],
      "source": [
        "df_global <- df[(df$Measurement.Year>=2013 & df$Measurement.Year<=2019),]\n",
        "\n",
        "table_year<- table(df_global$Measurement.Year, df_global$WHO.Guideline)\n",
        "table_year\n",
        "\n",
        "print(chisq.test(table_year))"
      ]
    },
    {
      "cell_type": "markdown",
      "metadata": {},
      "source": [
        "## Is global NO<sub>2</sub> dependent on Year?\n",
        "\n",
        "Therefore, compliance with recommended NO<sub>2</sub> differs between the years. \n",
        "\n",
        "$H_0$: The compliance with recommended NO<sub>2</sub> are independent from years. The compliance with recommended NO<sub>2</sub> does not differ between years.\n",
        "\n",
        "$H_1$: The compliance with recommended NO<sub>2</sub> are dependent on the year. The compliance with recommended NO<sub>2</sub> differs between the years.\n",
        "\n"
      ]
    }
  ],
  "metadata": {
    "kernelspec": {
      "display_name": "R",
      "language": "R",
      "name": "ir"
    },
    "language_info": {
      "codemirror_mode": "r",
      "file_extension": ".r",
      "mimetype": "text/x-r-source",
      "name": "R",
      "pygments_lexer": "r",
      "version": "4.2.1"
    }
  },
  "nbformat": 4,
  "nbformat_minor": 4
}
