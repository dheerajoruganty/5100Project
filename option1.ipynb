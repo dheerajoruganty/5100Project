{
 "cells": [
  {
   "cell_type": "markdown",
   "metadata": {},
   "source": [
    "## Option 1: Occupations with the Largest Projected Increase in Jobs by Share of Women in the Occupation\n",
    "\n",
    "https://www.dol.gov/agencies/wb/data/high-demand-occupations\n",
    "\n",
    "1. Is 'Employment, 2022' dependent on occupation (can pick 3-4)? (Chi-squared test)\n",
    "2. Are there more women ('Employment, 2022') working as Nurse practitioners compared to data scientists? (proportion hypothesis testing, t-test and/or z-test)\n",
    "3. Are there more women ('Employment, 2022') working as Software developers compared to data scientists? (proportion hypothesis testing, t-test and/or z-test)\n",
    "4. Are there more women projected ('Employment, 2032') to work as Nurse practitioners compared to data scientists? (proportion hypothesis testing, t-test and/or z-test)\n",
    "5. Are there more women projected ('Employment, 2032') to work as Software developers compared to data scientists? (proportion hypothesis testing, t-test and/or z-test)\n",
    "6. Is median annual wage dependent on occupation? (Chi-squared test)\n",
    "7. Compare median annual wage between two occupations. (proporiton hypothesis testing)\n",
    "8. Label coding careers vs. non-coding careers. Do women with coding careers have a higher median wage compared to non-coding careers? (means hypothesis testing, t-test or z-test)"
   ]
  },
  {
   "cell_type": "markdown",
   "metadata": {},
   "source": []
  },
  {
   "cell_type": "code",
   "execution_count": null,
   "metadata": {},
   "outputs": [],
   "source": [
    "\n"
   ]
  },
  {
   "cell_type": "markdown",
   "metadata": {},
   "source": [
    "Import Libraries "
   ]
  },
  {
   "cell_type": "code",
   "execution_count": 42,
   "metadata": {},
   "outputs": [],
   "source": [
    "import pandas as pd\n",
    "import numpy as np\n",
    "#pip install scipy\n",
    "from scipy.stats import ttest_rel\n"
   ]
  },
  {
   "cell_type": "markdown",
   "metadata": {},
   "source": [
    "Data Exploration"
   ]
  },
  {
   "cell_type": "code",
   "execution_count": 43,
   "metadata": {},
   "outputs": [
    {
     "name": "stdout",
     "output_type": "stream",
     "text": [
      "                        Measure Names                  Occupation  \\\n",
      "0          Employment change, 2022-32    Accountants and auditors   \n",
      "1                    Employment, 2022    Accountants and auditors   \n",
      "2                    Employment, 2032    Accountants and auditors   \n",
      "3             Median annual wage 2022    Accountants and auditors   \n",
      "4  Percent employment change, 2022-32    Accountants and auditors   \n",
      "\n",
      "  Measure Values  \n",
      "0           67.4  \n",
      "1        1,538.4  \n",
      "2        1,605.8  \n",
      "3         78,000  \n",
      "4            4.4  \n",
      "['Employment change, 2022-32' 'Employment, 2022' 'Employment, 2032'\n",
      " 'Median annual wage 2022' 'Percent employment change, 2022-32'\n",
      " 'Percent women 2022']\n",
      "['  Accountants and auditors' '  Animal caretakers'\n",
      " '  Computer and information systems managers'\n",
      " '  Computer systems analysts' '  Construction laborers'\n",
      " '  Cooks, restaurant' '  Data scientists' '  Financial managers'\n",
      " '  First-line supervisors of food preparation and serving workers'\n",
      " '  General and operations managers'\n",
      " '  Heavy and tractor-trailer truck drivers'\n",
      " '  Home health and personal care aides' '  Human resources specialists'\n",
      " '  Industrial machinery mechanics' '  Information security analysts'\n",
      " '  Laborers and freight, stock, and material movers, hand' '  Lawyers'\n",
      " '  Light truck drivers' '  Maintenance and repair workers, general'\n",
      " '  Management analysts'\n",
      " '  Market research analysts and marketing specialists'\n",
      " '  Medical and health services managers' '  Medical assistants'\n",
      " '  Nurse practitioners' '  Nursing assistants'\n",
      " '  Project management specialists' '  Registered nurses'\n",
      " '  Software developers' '  Stockers and order fillers'\n",
      " '  Substance abuse, behavioral disorder, and mental health counselors'\n",
      " 'Total, all occupations']\n"
     ]
    }
   ],
   "source": [
    "\n",
    "\n",
    "women = pd.read_csv('OccupationswithMostProjectedGrowth.csv')\n",
    "print(women.head())\n",
    "print(women['Measure Names'].unique())\n",
    "print(women['Occupation'].unique())\n",
    "\n",
    "# 'Employment change, 2022-32' --> frequency (in thousands)\n",
    "# 'Employment, 2022' --> frequency (in thousands)\n",
    "# 'Employment, 2032' --> frequency (in thousands)\n",
    "# 'Median annual wage 2022' --> $\n",
    "# 'Percent employment change, 2022-32' --> percentage\n",
    "# 'Percent women 2022'] --> percentage"
   ]
  },
  {
   "cell_type": "code",
   "execution_count": 44,
   "metadata": {},
   "outputs": [
    {
     "name": "stdout",
     "output_type": "stream",
     "text": [
      "                        Measure Names                  Occupation  \\\n",
      "0          Employment change, 2022-32    Accountants and auditors   \n",
      "1                    Employment, 2022    Accountants and auditors   \n",
      "2                    Employment, 2032    Accountants and auditors   \n",
      "3             Median annual wage 2022    Accountants and auditors   \n",
      "4  Percent employment change, 2022-32    Accountants and auditors   \n",
      "5                  Percent women 2022    Accountants and auditors   \n",
      "6          Employment change, 2022-32           Animal caretakers   \n",
      "7                    Employment, 2022           Animal caretakers   \n",
      "8                    Employment, 2032           Animal caretakers   \n",
      "9             Median annual wage 2022           Animal caretakers   \n",
      "\n",
      "  Measure Values  \n",
      "0           67.4  \n",
      "1        1,538.4  \n",
      "2        1,605.8  \n",
      "3         78,000  \n",
      "4            4.4  \n",
      "5    0.587865715  \n",
      "6           52.5  \n",
      "7            339  \n",
      "8          391.5  \n",
      "9         29,530  \n"
     ]
    }
   ],
   "source": [
    "print(women.head(10))"
   ]
  },
  {
   "cell_type": "code",
   "execution_count": 45,
   "metadata": {},
   "outputs": [],
   "source": [
    "df_pivoted = women.pivot(index='Occupation', columns='Measure Names', values='Measure Values').reset_index()\n",
    "df_pivoted.columns.name = None\n",
    "df_pivoted.columns = [col if col != 'Measure Values' else 'Value' for col in df_pivoted.columns]\n",
    "\n",
    "\n",
    "#df_pivoted.to_csv('output_data.csv', index=False)"
   ]
  },
  {
   "cell_type": "markdown",
   "metadata": {},
   "source": [
    "DATA CLEANING "
   ]
  },
  {
   "cell_type": "code",
   "execution_count": 46,
   "metadata": {},
   "outputs": [
    {
     "data": {
      "text/plain": [
       "Index(['Occupation', 'Employment change, 2022-32', 'Employment, 2022',\n",
       "       'Employment, 2032', 'Median annual wage 2022',\n",
       "       'Percent employment change, 2022-32', 'Percent women 2022'],\n",
       "      dtype='object')"
      ]
     },
     "execution_count": 46,
     "metadata": {},
     "output_type": "execute_result"
    }
   ],
   "source": [
    "df_pivoted.columns"
   ]
  },
  {
   "cell_type": "code",
   "execution_count": 47,
   "metadata": {},
   "outputs": [],
   "source": [
    "# rename all columns\n",
    "\n",
    "col= (\"occupation\",\"employment_change\", \"employment2022\", \"employment2032\", \"median_annual_wage_2022\",\"employment_change_percet\",\"percent_women\")\n",
    "df_pivoted.columns = col\n",
    "df=df_pivoted.copy()\n"
   ]
  },
  {
   "cell_type": "code",
   "execution_count": 48,
   "metadata": {},
   "outputs": [
    {
     "name": "stdout",
     "output_type": "stream",
     "text": [
      "                                           occupation  employment_change  \\\n",
      "0                            Accountants and auditors               67.4   \n",
      "1                                   Animal caretakers               52.5   \n",
      "2           Computer and information systems managers               86.0   \n",
      "3                           Computer systems analysts               51.1   \n",
      "4                               Construction laborers               61.9   \n",
      "5                                   Cooks, restaurant              277.6   \n",
      "6                                     Data scientists               59.4   \n",
      "7                                  Financial managers              126.6   \n",
      "8     First-line supervisors of food preparation a...               60.0   \n",
      "9                     General and operations managers              147.3   \n",
      "10            Heavy and tractor-trailer truck drivers               89.3   \n",
      "11                Home health and personal care aides              804.6   \n",
      "12                        Human resources specialists               51.4   \n",
      "13                     Industrial machinery mechanics               59.9   \n",
      "14                      Information security analysts               53.2   \n",
      "15    Laborers and freight, stock, and material mo...              158.8   \n",
      "16                                            Lawyers               62.4   \n",
      "17                                Light truck drivers              133.8   \n",
      "18            Maintenance and repair workers, general               57.2   \n",
      "19                                Management analysts               95.7   \n",
      "20    Market research analysts and marketing speci...              116.6   \n",
      "21               Medical and health services managers              144.7   \n",
      "22                                 Medical assistants              105.9   \n",
      "23                                Nurse practitioners              118.6   \n",
      "24                                 Nursing assistants               56.5   \n",
      "25                     Project management specialists               54.7   \n",
      "26                                  Registered nurses              177.4   \n",
      "27                                Software developers              410.4   \n",
      "28                         Stockers and order fillers              178.6   \n",
      "29    Substance abuse, behavioral disorder, and me...               71.5   \n",
      "30                             Total, all occupations             4665.5   \n",
      "\n",
      "    employment2022  employment2032  median_annual_wage_2022  \\\n",
      "0           1538.4          1605.8                    78000   \n",
      "1            339.0           391.5                    29530   \n",
      "2            557.4           643.3                   164070   \n",
      "3            531.4           582.6                   102240   \n",
      "4           1418.6          1480.5                    40750   \n",
      "5           1361.2          1638.9                    34110   \n",
      "6            168.9           228.2                   103500   \n",
      "7            792.6           919.2                   139790   \n",
      "8           1221.7          1281.8                    37050   \n",
      "9           3507.8          3655.1                    98100   \n",
      "10          2192.3          2281.5                    49920   \n",
      "11          3715.5          4520.1                    30180   \n",
      "12           874.5           925.9                    64240   \n",
      "13           402.2           462.1                    59830   \n",
      "14           168.9           222.2                   112000   \n",
      "15          2988.5          3147.3                    36110   \n",
      "16           826.3           888.7                   135740   \n",
      "17          1164.6          1298.4                    40410   \n",
      "18          1607.2          1664.4                    44980   \n",
      "19           987.6          1083.3                    95290   \n",
      "20           868.6           985.2                    68230   \n",
      "21           509.5           654.2                   104830   \n",
      "22           764.4           870.2                    38270   \n",
      "23           266.3           384.9                   121610   \n",
      "24          1361.3          1417.8                    35760   \n",
      "25           881.3           936.0                    95370   \n",
      "26          3172.5          3349.9                    81220   \n",
      "27          1594.5          2004.9                   127260   \n",
      "28          2851.6          3030.3                    34220   \n",
      "29           388.2           459.6                    49710   \n",
      "30        164482.6        169148.1                    46310   \n",
      "\n",
      "    employment_change_percet  percent_women  \n",
      "0                        4.4       0.587866  \n",
      "1                       15.5       0.759194  \n",
      "2                       15.4       0.276659  \n",
      "3                        9.6       0.401743  \n",
      "4                        4.4       0.039457  \n",
      "5                       20.4       0.411027  \n",
      "6                       35.2            NaN  \n",
      "7                       16.0       0.553253  \n",
      "8                        4.9       0.607359  \n",
      "9                        4.2       0.352885  \n",
      "10                       4.1            NaN  \n",
      "11                      21.7       0.831000  \n",
      "12                       5.9       0.748862  \n",
      "13                      14.9            NaN  \n",
      "14                      31.5       0.165696  \n",
      "15                       5.3       0.235783  \n",
      "16                       7.5       0.387890  \n",
      "17                      11.5            NaN  \n",
      "18                       3.6       0.042136  \n",
      "19                       9.7       0.443356  \n",
      "20                      13.4       0.600331  \n",
      "21                      28.4       0.729933  \n",
      "22                      13.9       0.911472  \n",
      "23                      44.5       0.884046  \n",
      "24                       4.1       0.881500  \n",
      "25                       6.2       0.462736  \n",
      "26                       5.6       0.875218  \n",
      "27                      25.7       0.184637  \n",
      "28                       6.3       0.366037  \n",
      "29                      18.4       0.727726  \n",
      "30                       2.8       0.473000  \n"
     ]
    }
   ],
   "source": [
    "# clean and remove all the commmas in the dataset\n",
    "\n",
    "numeric_columns = df.columns.difference([\"occupation\"])\n",
    "df[numeric_columns] = df[numeric_columns].replace(to_replace=r',', value='', regex=True)\n",
    "df[numeric_columns] = df[numeric_columns].apply(pd.to_numeric, errors='coerce')\n",
    "print(df)"
   ]
  },
  {
   "cell_type": "code",
   "execution_count": 49,
   "metadata": {},
   "outputs": [
    {
     "name": "stdout",
     "output_type": "stream",
     "text": [
      "                                          occupation  employment_change  \\\n",
      "0                           Accountants and auditors               67.4   \n",
      "1                                  Animal caretakers               52.5   \n",
      "2          Computer and information systems managers               86.0   \n",
      "3                          Computer systems analysts               51.1   \n",
      "4                              Construction laborers               61.9   \n",
      "5                                  Cooks, restaurant              277.6   \n",
      "6                                    Data scientists               59.4   \n",
      "7                                 Financial managers              126.6   \n",
      "8    First-line supervisors of food preparation a...               60.0   \n",
      "9                    General and operations managers              147.3   \n",
      "\n",
      "   employment2022  employment2032  median_annual_wage_2022  \\\n",
      "0          1538.4          1605.8                    78000   \n",
      "1           339.0           391.5                    29530   \n",
      "2           557.4           643.3                   164070   \n",
      "3           531.4           582.6                   102240   \n",
      "4          1418.6          1480.5                    40750   \n",
      "5          1361.2          1638.9                    34110   \n",
      "6           168.9           228.2                   103500   \n",
      "7           792.6           919.2                   139790   \n",
      "8          1221.7          1281.8                    37050   \n",
      "9          3507.8          3655.1                    98100   \n",
      "\n",
      "   employment_change_percet  percent_women  \n",
      "0                       4.4       0.587866  \n",
      "1                      15.5       0.759194  \n",
      "2                      15.4       0.276659  \n",
      "3                       9.6       0.401743  \n",
      "4                       4.4       0.039457  \n",
      "5                      20.4       0.411027  \n",
      "6                      35.2            NaN  \n",
      "7                      16.0       0.553253  \n",
      "8                       4.9       0.607359  \n",
      "9                       4.2       0.352885  \n"
     ]
    }
   ],
   "source": [
    "print(df.head(10))"
   ]
  },
  {
   "cell_type": "code",
   "execution_count": 50,
   "metadata": {},
   "outputs": [
    {
     "data": {
      "text/plain": [
       "occupation                  0\n",
       "employment_change           0\n",
       "employment2022              0\n",
       "employment2032              0\n",
       "median_annual_wage_2022     0\n",
       "employment_change_percet    0\n",
       "percent_women               4\n",
       "dtype: int64"
      ]
     },
     "execution_count": 50,
     "metadata": {},
     "output_type": "execute_result"
    }
   ],
   "source": [
    "df.isna().sum()\n"
   ]
  },
  {
   "cell_type": "code",
   "execution_count": 51,
   "metadata": {},
   "outputs": [],
   "source": [
    "df1=df.copy()"
   ]
  },
  {
   "cell_type": "code",
   "execution_count": 52,
   "metadata": {},
   "outputs": [
    {
     "data": {
      "text/plain": [
       "occupation                   object\n",
       "employment_change           float64\n",
       "employment2022              float64\n",
       "employment2032              float64\n",
       "median_annual_wage_2022       int64\n",
       "employment_change_percet    float64\n",
       "percent_women               float64\n",
       "dtype: object"
      ]
     },
     "execution_count": 52,
     "metadata": {},
     "output_type": "execute_result"
    }
   ],
   "source": [
    "df.dtypes"
   ]
  },
  {
   "cell_type": "code",
   "execution_count": 53,
   "metadata": {},
   "outputs": [
    {
     "name": "stdout",
     "output_type": "stream",
     "text": [
      "                                           occupation  employment_change  \\\n",
      "0                            Accountants and auditors               67.4   \n",
      "1                                   Animal caretakers               52.5   \n",
      "2           Computer and information systems managers               86.0   \n",
      "3                           Computer systems analysts               51.1   \n",
      "4                               Construction laborers               61.9   \n",
      "5                                   Cooks, restaurant              277.6   \n",
      "6                                     Data scientists               59.4   \n",
      "7                                  Financial managers              126.6   \n",
      "8     First-line supervisors of food preparation a...               60.0   \n",
      "9                     General and operations managers              147.3   \n",
      "10            Heavy and tractor-trailer truck drivers               89.3   \n",
      "11                Home health and personal care aides              804.6   \n",
      "12                        Human resources specialists               51.4   \n",
      "13                     Industrial machinery mechanics               59.9   \n",
      "14                      Information security analysts               53.2   \n",
      "15    Laborers and freight, stock, and material mo...              158.8   \n",
      "16                                            Lawyers               62.4   \n",
      "17                                Light truck drivers              133.8   \n",
      "18            Maintenance and repair workers, general               57.2   \n",
      "19                                Management analysts               95.7   \n",
      "20    Market research analysts and marketing speci...              116.6   \n",
      "21               Medical and health services managers              144.7   \n",
      "22                                 Medical assistants              105.9   \n",
      "23                                Nurse practitioners              118.6   \n",
      "24                                 Nursing assistants               56.5   \n",
      "25                     Project management specialists               54.7   \n",
      "26                                  Registered nurses              177.4   \n",
      "27                                Software developers              410.4   \n",
      "28                         Stockers and order fillers              178.6   \n",
      "29    Substance abuse, behavioral disorder, and me...               71.5   \n",
      "30                             Total, all occupations             4665.5   \n",
      "\n",
      "    employment2022  employment2032  median_annual_wage_2022  \\\n",
      "0           1538.4          1605.8                    78000   \n",
      "1            339.0           391.5                    29530   \n",
      "2            557.4           643.3                   164070   \n",
      "3            531.4           582.6                   102240   \n",
      "4           1418.6          1480.5                    40750   \n",
      "5           1361.2          1638.9                    34110   \n",
      "6            168.9           228.2                   103500   \n",
      "7            792.6           919.2                   139790   \n",
      "8           1221.7          1281.8                    37050   \n",
      "9           3507.8          3655.1                    98100   \n",
      "10          2192.3          2281.5                    49920   \n",
      "11          3715.5          4520.1                    30180   \n",
      "12           874.5           925.9                    64240   \n",
      "13           402.2           462.1                    59830   \n",
      "14           168.9           222.2                   112000   \n",
      "15          2988.5          3147.3                    36110   \n",
      "16           826.3           888.7                   135740   \n",
      "17          1164.6          1298.4                    40410   \n",
      "18          1607.2          1664.4                    44980   \n",
      "19           987.6          1083.3                    95290   \n",
      "20           868.6           985.2                    68230   \n",
      "21           509.5           654.2                   104830   \n",
      "22           764.4           870.2                    38270   \n",
      "23           266.3           384.9                   121610   \n",
      "24          1361.3          1417.8                    35760   \n",
      "25           881.3           936.0                    95370   \n",
      "26          3172.5          3349.9                    81220   \n",
      "27          1594.5          2004.9                   127260   \n",
      "28          2851.6          3030.3                    34220   \n",
      "29           388.2           459.6                    49710   \n",
      "30        164482.6        169148.1                    46310   \n",
      "\n",
      "    employment_change_percet  percent_women  \n",
      "0                        4.4       0.587866  \n",
      "1                       15.5       0.759194  \n",
      "2                       15.4       0.276659  \n",
      "3                        9.6       0.401743  \n",
      "4                        4.4       0.039457  \n",
      "5                       20.4       0.411027  \n",
      "6                       35.2       0.516326  \n",
      "7                       16.0       0.553253  \n",
      "8                        4.9       0.607359  \n",
      "9                        4.2       0.352885  \n",
      "10                       4.1       0.516326  \n",
      "11                      21.7       0.831000  \n",
      "12                       5.9       0.748862  \n",
      "13                      14.9       0.516326  \n",
      "14                      31.5       0.165696  \n",
      "15                       5.3       0.235783  \n",
      "16                       7.5       0.387890  \n",
      "17                      11.5       0.516326  \n",
      "18                       3.6       0.042136  \n",
      "19                       9.7       0.443356  \n",
      "20                      13.4       0.600331  \n",
      "21                      28.4       0.729933  \n",
      "22                      13.9       0.911472  \n",
      "23                      44.5       0.884046  \n",
      "24                       4.1       0.881500  \n",
      "25                       6.2       0.462736  \n",
      "26                       5.6       0.875218  \n",
      "27                      25.7       0.184637  \n",
      "28                       6.3       0.366037  \n",
      "29                      18.4       0.727726  \n",
      "30                       2.8       0.473000  \n"
     ]
    }
   ],
   "source": [
    "df[\"percent_women\"] = df[\"percent_women\"].fillna(df[\"percent_women\"].mean())\n",
    "\n",
    "print(df)"
   ]
  },
  {
   "cell_type": "code",
   "execution_count": 54,
   "metadata": {},
   "outputs": [
    {
     "data": {
      "text/plain": [
       "occupation                  0\n",
       "employment_change           0\n",
       "employment2022              0\n",
       "employment2032              0\n",
       "median_annual_wage_2022     0\n",
       "employment_change_percet    0\n",
       "percent_women               0\n",
       "dtype: int64"
      ]
     },
     "execution_count": 54,
     "metadata": {},
     "output_type": "execute_result"
    }
   ],
   "source": [
    "df.isna().sum()\n"
   ]
  },
  {
   "cell_type": "code",
   "execution_count": 55,
   "metadata": {},
   "outputs": [
    {
     "name": "stdout",
     "output_type": "stream",
     "text": [
      "0.06919941687358531\n",
      "0.05997282795710727\n"
     ]
    }
   ],
   "source": [
    "# has missing value imputation affected the variace of the data \n",
    "\n",
    "variance_before = df1[\"percent_women\"].var()\n",
    "\n",
    "variance_after_mean = df[\"percent_women\"].var()\n",
    "\n",
    "print(variance_before)\n",
    "print(variance_after_mean)\n",
    "\n",
    "# there is just 10% change"
   ]
  },
  {
   "cell_type": "markdown",
   "metadata": {},
   "source": [
    "**TESTING**"
   ]
  },
  {
   "cell_type": "code",
   "execution_count": 56,
   "metadata": {},
   "outputs": [
    {
     "name": "stdout",
     "output_type": "stream",
     "text": [
      "Mean: 74149.35483870968\n",
      "Variance: 1449347631.8418317\n",
      "Skewness: 0.613807060668165\n"
     ]
    }
   ],
   "source": [
    "# mean, variance and skewness \n",
    "\n",
    "# Import necessary libraries\n",
    "import numpy as np\n",
    "\n",
    "# Convert the \"Median annual wage 2022\" column to numerical format\n",
    "df[\"Median annual wage 2022\"] = df[\"median_annual_wage_2022\"].replace({',': ''}, regex=True).astype(float)\n",
    "\n",
    "# Calculate mean, variance, and skewness\n",
    "mean_wage = np.mean(df[\"median_annual_wage_2022\"])\n",
    "variance_wage = np.var(df[\"median_annual_wage_2022\"])\n",
    "skewness_wage = df[\"median_annual_wage_2022\"].skew()\n",
    "\n",
    "print(\"Mean:\", mean_wage)\n",
    "print(\"Variance:\", variance_wage)\n",
    "print(\"Skewness:\", skewness_wage)\n"
   ]
  },
  {
   "cell_type": "markdown",
   "metadata": {},
   "source": [
    "**Q1**. Is there any significant difference between 2022 and 2032 samples? \n",
    "\n",
    "H0: There is no significant difference between 2022 and 2032\n",
    "H1: There is significant difference "
   ]
  },
  {
   "cell_type": "code",
   "execution_count": 57,
   "metadata": {},
   "outputs": [
    {
     "name": "stdout",
     "output_type": "stream",
     "text": [
      "t-statistic: -1.8799174643550587\n",
      "p-value: 0.06986200323491434\n"
     ]
    }
   ],
   "source": [
    "t_stat, p_value = ttest_rel(df[\"employment2022\"], df[\"employment2032\"])\n",
    "\n",
    "print(\"t-statistic:\", t_stat)\n",
    "print(\"p-value:\", p_value)\n"
   ]
  },
  {
   "cell_type": "markdown",
   "metadata": {},
   "source": [
    "There is no significant differene between employement in 2022 and 2032 as we are accepting the null-hypothesis. \n",
    "\n",
    "t-statistic: The t-statistic measures the size and direction of the difference between the means of the paired samples. In this case, the negative value indicates that, on average, the values in \"employment2022\" are lower than the values in \"employment2032.\"\n",
    "\n",
    "p-value: The p-value is the probability of observing a t-statistic as extreme as the one calculated, assuming the null hypothesis is true. In this case, the p-value is approximately 0.0699.\n",
    "\n",
    "Decision: If you chose a significance level (alpha) of 0.05, the p-value (0.0699) is greater than alpha. Therefore, at the 0.05 significance level, you would fail to reject the null hypothesis.\n",
    "\n",
    "Conclusion: There is not enough evidence to conclude that there is a significant difference between the means of \"employment2022\" and \"employment2032\" based on this paired t-test."
   ]
  },
  {
   "cell_type": "markdown",
   "metadata": {},
   "source": [
    "x/N = percent\n",
    "x and percent are given\n",
    "To find N,\n",
    "x/percent = N"
   ]
  },
  {
   "cell_type": "code",
   "execution_count": null,
   "metadata": {},
   "outputs": [],
   "source": []
  },
  {
   "cell_type": "code",
   "execution_count": 60,
   "metadata": {},
   "outputs": [
    {
     "name": "stdout",
     "output_type": "stream",
     "text": [
      "                                  Occupation  WomenEmploymentChange2022-23  \\\n",
      "0                   Accountants and auditors                          67.4   \n",
      "1                          Animal caretakers                          52.5   \n",
      "2  Computer and information systems managers                          86.0   \n",
      "3                  Computer systems analysts                          51.1   \n",
      "4                      Construction laborers                          61.9   \n",
      "\n",
      "   WomenEmployment2022  WomenEmployment2032  WomenMedianAnnual2022  \\\n",
      "0               1538.4               1605.8                78000.0   \n",
      "1                339.0                391.5                29530.0   \n",
      "2                557.4                643.3               164070.0   \n",
      "3                531.4                582.6               102240.0   \n",
      "4               1418.6               1480.5                40750.0   \n",
      "\n",
      "   WomenPercentEmploymentChange2022-32  PercentWomen2022  \\\n",
      "0                                  4.4          0.587866   \n",
      "1                                 15.5          0.759194   \n",
      "2                                 15.4          0.276659   \n",
      "3                                  9.6          0.401743   \n",
      "4                                  4.4          0.039457   \n",
      "\n",
      "   WomenTotalEmployment2022  PercentNon-women2022  MenEmployment2022  \n",
      "0               2616.924173              0.412134        1078.524173  \n",
      "1                446.526232              0.240806         107.526232  \n",
      "2               2014.757772              0.723341        1457.357772  \n",
      "3               1322.734551              0.598257         791.334551  \n",
      "4              35953.062828              0.960543       34534.462828  \n"
     ]
    }
   ],
   "source": [
    "output_continued = pd.read_csv('output_data.csv')\n",
    "\n",
    "output_continued['Employment, 2022'] = output_continued['Employment, 2022'].str.replace(',', '').astype(float)\n",
    "output_continued['Employment, 2032'] = output_continued['Employment, 2032'].str.replace(',', '').astype(float)\n",
    "output_continued['Median annual wage 2022'] = output_continued['Median annual wage 2022'].str.replace(',', '').astype(float)\n",
    "\n",
    "output_continued['Employment change, 2022-32'] = output_continued['Employment change, 2022-32'].str.replace(',', '').astype(float)\n",
    "output_continued['Percent employment change, 2022-32'] = output_continued['Percent employment change, 2022-32'].astype(float)\n",
    "output_continued['Percent women 2022'] = output_continued['Percent women 2022'].astype(float)\n",
    "\n",
    "output_continued['Occupation'] = output_continued['Occupation'].str.replace(\"  \", \"\")\n",
    "output_continued['Total Employment, 2022'] = output_continued['Employment, 2022'] / output_continued['Percent women 2022']\n",
    "\n",
    "output_continued['Percent non-women 2022'] = 1-output_continued['Percent women 2022']\n",
    "output_continued['Men employment, 2022'] = output_continued['Total Employment, 2022'] - output_continued['Employment, 2022']\n",
    "\n",
    "update_colnames = {'Employment change, 2022-32': 'WomenEmploymentChange2022-23', \n",
    "                   'Employment, 2022': 'WomenEmployment2022', 'Employment, 2022': 'WomenEmployment2022',\n",
    "                   'Employment, 2032': 'WomenEmployment2032', 'Employment, 2032': 'WomenEmployment2032',\n",
    "                   'Median annual wage 2022': 'WomenMedianAnnual2022', 'Percent employment change, 2022-32': 'WomenPercentEmploymentChange2022-32',\n",
    "                   'Percent women 2022': 'PercentWomen2022', 'Total Employment, 2022': 'WomenTotalEmployment2022',\n",
    "                   'Percent non-women 2022': 'PercentNon-women2022', 'Men employment, 2022': 'MenEmployment2022'}\n",
    "output_continued.rename(columns=update_colnames, inplace=True)\n",
    "\n",
    "print(output_continued.head())"
   ]
  },
  {
   "cell_type": "markdown",
   "metadata": {},
   "source": [
    "STEM vs. non-STEM  \n",
    "- compare wage  \n",
    "- compare employment  \n",
    "\n",
    "Computer vs. non-Computer  \n",
    "- compare wage  \n",
    "- compare employment  \n",
    "\n",
    "Industry SOC major groups classification  \n",
    "- https://www.bls.gov/soc/2018/major_groups.htm  \n",
    "\n",
    "Employment STEM classification  \n",
    "- https://www.bls.gov/soc/Attachment_C_STEM_2018.pdf  \n",
    "\n",
    "Compare top three industries/SOC majors  \n",
    "\n",
    "https://www.bls.gov/spotlight/2017/science-technology-engineering-and-mathematics-stem-occupations-past-present-and-future/home.htm\n"
   ]
  },
  {
   "cell_type": "code",
   "execution_count": null,
   "metadata": {},
   "outputs": [],
   "source": [
    "\n",
    "def get_stem(occupation):\n",
    "    if occupation in [  'Computer and information systems managers', 'Software developers', 'Nurse practitioners', \n",
    "                      'Information security analysts', 'Medical and health services managers', 'Data scientists', \n",
    "                      'Computer systems analysts', 'Registered nurses']:\n",
    "        return 'yes'\n",
    "    else:\n",
    "        return 'no'\n",
    "\n",
    "output_continued['STEM'] = output_continued['Occupation'].apply(get_stem)\n",
    "\n",
    "# Define a custom function to determine category\n",
    "def get_SOC(occupation):\n",
    "    if occupation in ['Project management specialists', 'Management analysts', \n",
    "                      'Market research analysts and marketing specialists', 'Human resources specialists']:\n",
    "        return 'Business and Financial Operations Occupations'\n",
    "    elif occupation == 'Substance abuse, behavioral disorder, and mental health counselors':\n",
    "        return 'Community and Social Service Occupations'\n",
    "    elif occupation in ['Software developers', 'Information security analysts', 'Data scientists', \n",
    "                        'Computer systems analysts']:\n",
    "        return 'Computer and Mathematical Occupations'\n",
    "    elif occupation == \"Construction laborers\":\n",
    "        return 'Construction and Extraction Occupations'\n",
    "    elif occupation == \"Accountants and auditors\":\n",
    "        return 'Financial Specialists'\n",
    "    elif occupation in ['First-line supervisors of food preparation and serving workers', 'Cooks, restaurant']:\n",
    "        return 'Food Preparation and Serving Related Occupations'\n",
    "    elif occupation in ['Nurse practitioners','Registered nurses']:\n",
    "        return 'Healthcare Practitioners and Technical Occupations'\n",
    "    elif occupation in ['Medical assistants', 'Nursing assistants', 'Home health and personal care aides' 'Animal caretakers']:\n",
    "        return 'Healthcare Support Occupations'\n",
    "    elif occupation in ['Industrial machinery mechanics', 'Maintenance and repair workers, general']:\n",
    "        return 'Installation, Maintenance, and Repair Occupations'\n",
    "    elif occupation == \"Lawyers\":\n",
    "        return 'Legal Occupations'\n",
    "    elif occupation in ['Computer and information systems managers', 'Financial managers', \n",
    "                        'Medical and health services managers', 'General and operations managers']:\n",
    "        return 'Management Occupations'\n",
    "    elif occupation in ['Heavy and tractor-trailer truck drivers', 'Light truck drivers',\n",
    "                        'Laborers and freight, stock, and material movers, hand', 'Stockers and order fillers']:\n",
    "        return 'Transportation and Material Moving Occupations'\n",
    "    else:\n",
    "        return 'Other'\n",
    "\n",
    "output_continued['Industry_SOCmajor'] = output_continued['Occupation'].apply(get_SOC)\n",
    "\n",
    "print(output_continued)\n"
   ]
  },
  {
   "cell_type": "code",
   "execution_count": null,
   "metadata": {},
   "outputs": [],
   "source": [
    "output_continued.to_csv('output_data_v2.csv', index=False)"
   ]
  }
 ],
 "metadata": {
  "kernelspec": {
   "display_name": "Python 3",
   "language": "python",
   "name": "python3"
  },
  "language_info": {
   "codemirror_mode": {
    "name": "ipython",
    "version": 3
   },
   "file_extension": ".py",
   "mimetype": "text/x-python",
   "name": "python",
   "nbconvert_exporter": "python",
   "pygments_lexer": "ipython3",
   "version": "3.10.13"
  },
  "orig_nbformat": 4
 },
 "nbformat": 4,
 "nbformat_minor": 2
}
