{
 "cells": [
  {
   "cell_type": "raw",
   "metadata": {},
   "source": [
    "---\n",
    "title: \"Data Collection for 5100 Project (Options)\"\n",
    "author: \"Tiana Le\"\n",
    "format:\n",
    "    html:\n",
    "        embed-resources: true\n",
    "---"
   ]
  },
  {
   "cell_type": "markdown",
   "metadata": {},
   "source": [
    "Here I am:\n",
    "Collecting Dataset Options in Python\n",
    "Statistical Tests will be done in R"
   ]
  },
  {
   "cell_type": "markdown",
   "metadata": {},
   "source": [
    "## Option 1: Occupations with the Largest Projected Increase in Jobs by Share of Women in the Occupation\n",
    "\n",
    "https://www.dol.gov/agencies/wb/data/high-demand-occupations\n",
    "\n",
    "1. Is 'Employment, 2022' dependent on occupation (can pick 3-4)? (Chi-squared test)\n",
    "2. Are there more women ('Employment, 2022') working as Nurse practitioners compared to data scientists? (proportion hypothesis testing, t-test and/or z-test)\n",
    "3. Are there more women ('Employment, 2022') working as Software developers compared to data scientists? (proportion hypothesis testing, t-test and/or z-test)\n",
    "4. Are there more women projected ('Employment, 2032') to work as Nurse practitioners compared to data scientists? (proportion hypothesis testing, t-test and/or z-test)\n",
    "5. Are there more women projected ('Employment, 2032') to work as Software developers compared to data scientists? (proportion hypothesis testing, t-test and/or z-test)\n",
    "6. Is median annual wage dependent on occupation? (Chi-squared test)\n",
    "7. Compare median annual wage between two occupations. (proporiton hypothesis testing)\n",
    "8. Label coding careers vs. non-coding careers. Do women with coding careers have a higher median wage compared to non-coding careers? (means hypothesis testing, t-test or z-test)"
   ]
  },
  {
   "cell_type": "code",
   "execution_count": 39,
   "metadata": {},
   "outputs": [
    {
     "name": "stdout",
     "output_type": "stream",
     "text": [
      "                        Measure Names                  Occupation  \\\n",
      "0          Employment change, 2022-32    Accountants and auditors   \n",
      "1                    Employment, 2022    Accountants and auditors   \n",
      "2                    Employment, 2032    Accountants and auditors   \n",
      "3             Median annual wage 2022    Accountants and auditors   \n",
      "4  Percent employment change, 2022-32    Accountants and auditors   \n",
      "\n",
      "  Measure Values  \n",
      "0           67.4  \n",
      "1        1,538.4  \n",
      "2        1,605.8  \n",
      "3         78,000  \n",
      "4            4.4  \n",
      "['Employment change, 2022-32' 'Employment, 2022' 'Employment, 2032'\n",
      " 'Median annual wage 2022' 'Percent employment change, 2022-32'\n",
      " 'Percent women 2022']\n",
      "['  Accountants and auditors' '  Animal caretakers'\n",
      " '  Computer and information systems managers'\n",
      " '  Computer systems analysts' '  Construction laborers'\n",
      " '  Cooks, restaurant' '  Data scientists' '  Financial managers'\n",
      " '  First-line supervisors of food preparation and serving workers'\n",
      " '  General and operations managers'\n",
      " '  Heavy and tractor-trailer truck drivers'\n",
      " '  Home health and personal care aides' '  Human resources specialists'\n",
      " '  Industrial machinery mechanics' '  Information security analysts'\n",
      " '  Laborers and freight, stock, and material movers, hand' '  Lawyers'\n",
      " '  Light truck drivers' '  Maintenance and repair workers, general'\n",
      " '  Management analysts'\n",
      " '  Market research analysts and marketing specialists'\n",
      " '  Medical and health services managers' '  Medical assistants'\n",
      " '  Nurse practitioners' '  Nursing assistants'\n",
      " '  Project management specialists' '  Registered nurses'\n",
      " '  Software developers' '  Stockers and order fillers'\n",
      " '  Substance abuse, behavioral disorder, and mental health counselors'\n",
      " 'Total, all occupations']\n"
     ]
    }
   ],
   "source": [
    "import pandas as pd\n",
    "\n",
    "women = pd.read_csv('OccupationswithMostProjectedGrowth.csv')\n",
    "print(women.head())\n",
    "print(women['Measure Names'].unique())\n",
    "print(women['Occupation'].unique())\n",
    "\n",
    "# 'Employment change, 2022-32' --> frequency (in thousands)\n",
    "# 'Employment, 2022' --> frequency (in thousands)\n",
    "# 'Employment, 2032' --> frequency (in thousands)\n",
    "# 'Median annual wage 2022' --> $\n",
    "# 'Percent employment change, 2022-32' --> percentage\n",
    "# 'Percent women 2022'] --> percentage"
   ]
  },
  {
   "cell_type": "markdown",
   "metadata": {},
   "source": [
    "## Option 2: NYC Air Quality Dataset\n",
    "\n",
    "https://data.cityofnewyork.us/Environment/Air-Quality/c3uy-2p5r\n",
    "\n",
    "1. Is the amount of nitrogen dioxide dependent on NYC borough? (Chi-squared test)\n",
    "2. Is the amount of fine particles dependent on NYC borough? (Chi-squared test)\n",
    "3. Is the amount of ozone dependent on NYC borough? (Chi-squared test)\n",
    "4. Are there more asthma emergency visits in Bronx vs. New York (Manhattan) with more nitrogen dioxide? (mean hypothesis testing and proportion testing, t-test and/or z-test)\n",
    "5. Are there more Asthma hospitalizations due to Ozone in Bronx vs. New York (Manhattan) (mean hypothesis and proprotion testing, t-test and/or z-test)"
   ]
  },
  {
   "cell_type": "code",
   "execution_count": 20,
   "metadata": {},
   "outputs": [
    {
     "name": "stderr",
     "output_type": "stream",
     "text": [
      "WARNING:root:Requests made without an app_token will be subject to strict throttling limits.\n"
     ]
    },
    {
     "name": "stdout",
     "output_type": "stream",
     "text": [
      "['Nitrogen dioxide (NO2)' 'Fine particles (PM 2.5)' 'Ozone (O3)'\n",
      " 'Asthma emergency department visits due to PM2.5'\n",
      " 'Annual vehicle miles traveled' 'Asthma hospitalizations due to Ozone'\n",
      " 'Respiratory hospitalizations due to PM2.5 (age 20+)'\n",
      " 'Boiler Emissions- Total SO2 Emissions']\n",
      "['Mean' 'Estimated annual rate (under age 18)' 'million miles'\n",
      " 'Estimated annual rate (age 18+)' 'Estimated annual rate'\n",
      " 'Number per km2']\n"
     ]
    }
   ],
   "source": [
    "import pandas as pd\n",
    "from sodapy import Socrata\n",
    "\n",
    "# Unauthenticated client only works with public data sets. Note 'None'\n",
    "# in place of application token, and no username or password:\n",
    "client = Socrata(\"data.cityofnewyork.us\", None)\n",
    "\n",
    "# Example authenticated client (needed for non-public datasets):\n",
    "# client = Socrata(data.cityofnewyork.us,\n",
    "#                  MyAppToken,\n",
    "#                  username=\"user@example.com\",\n",
    "#                  password=\"AFakePassword\")\n",
    "\n",
    "# First 2000 results, returned as JSON from API / converted to Python list of\n",
    "# dictionaries by sodapy.\n",
    "results = client.get(\"c3uy-2p5r\", limit=2000)\n",
    "\n",
    "# Convert to pandas DataFrame\n",
    "results_df = pd.DataFrame.from_records(results)\n",
    "\n",
    "#print(results_df.head())\n",
    "print(results_df['name'].unique())\n",
    "print(results_df['measure'].unique())\n",
    "\n",
    "\n"
   ]
  },
  {
   "cell_type": "code",
   "execution_count": 23,
   "metadata": {},
   "outputs": [
    {
     "name": "stdout",
     "output_type": "stream",
     "text": [
      "  unique_id indicator_id                    name measure measure_info  \\\n",
      "0    172653          375  Nitrogen dioxide (NO2)    Mean          ppb   \n",
      "1    172585          375  Nitrogen dioxide (NO2)    Mean          ppb   \n",
      "2    336637          375  Nitrogen dioxide (NO2)    Mean          ppb   \n",
      "3    336622          375  Nitrogen dioxide (NO2)    Mean          ppb   \n",
      "4    172582          375  Nitrogen dioxide (NO2)    Mean          ppb   \n",
      "\n",
      "  geo_type_name geo_join_id                      geo_place_name  \\\n",
      "0         UHF34         203  Bedford Stuyvesant - Crown Heights   \n",
      "1         UHF34         203  Bedford Stuyvesant - Crown Heights   \n",
      "2         UHF34         204                       East New York   \n",
      "3         UHF34         103                  Fordham - Bronx Pk   \n",
      "4         UHF34         104                Pelham - Throgs Neck   \n",
      "\n",
      "           time_period               start_date data_value  \n",
      "0  Annual Average 2011  2010-12-01T00:00:00.000      25.30  \n",
      "1  Annual Average 2009  2008-12-01T00:00:00.000      26.93  \n",
      "2  Annual Average 2015  2015-01-01T00:00:00.000      19.09  \n",
      "3  Annual Average 2015  2015-01-01T00:00:00.000      19.76  \n",
      "4  Annual Average 2009  2008-12-01T00:00:00.000      22.83  \n"
     ]
    }
   ],
   "source": [
    "no2 = results_df[results_df['name']=='Nitrogen dioxide (NO2)']\n",
    "print(no2.head())"
   ]
  },
  {
   "cell_type": "code",
   "execution_count": 25,
   "metadata": {},
   "outputs": [
    {
     "name": "stdout",
     "output_type": "stream",
     "text": [
      "    unique_id indicator_id                     name measure measure_info  \\\n",
      "381    173129          365  Fine particles (PM 2.5)    Mean       mcg/m3   \n",
      "382    669692          365  Fine particles (PM 2.5)    Mean       mcg/m3   \n",
      "383    212069          365  Fine particles (PM 2.5)    Mean       mcg/m3   \n",
      "384    547517          365  Fine particles (PM 2.5)    Mean       mcg/m3   \n",
      "385    173125          365  Fine particles (PM 2.5)    Mean       mcg/m3   \n",
      "\n",
      "    geo_type_name geo_join_id                      geo_place_name  \\\n",
      "381         UHF34         203  Bedford Stuyvesant - Crown Heights   \n",
      "382         UHF34         203  Bedford Stuyvesant - Crown Heights   \n",
      "383         UHF34         204                       East New York   \n",
      "384         UHF34         204                       East New York   \n",
      "385         UHF34         103                  Fordham - Bronx Pk   \n",
      "\n",
      "             time_period               start_date data_value  \n",
      "381       Winter 2009-10  2009-12-01T00:00:00.000      10.30  \n",
      "382          Summer 2020  2020-06-01T00:00:00.000       6.98  \n",
      "383  Annual Average 2014  2013-12-01T00:00:00.000       9.04  \n",
      "384       Winter 2016-17  2016-12-01T00:00:00.000       8.11  \n",
      "385       Winter 2009-10  2009-12-01T00:00:00.000      11.40  \n"
     ]
    }
   ],
   "source": [
    "fineparticle = results_df[results_df['name']=='Fine particles (PM 2.5)']\n",
    "print(fineparticle.head())"
   ]
  },
  {
   "cell_type": "code",
   "execution_count": 26,
   "metadata": {},
   "outputs": [
    {
     "name": "stdout",
     "output_type": "stream",
     "text": [
      "    unique_id indicator_id        name measure measure_info geo_type_name  \\\n",
      "576    121693          386  Ozone (O3)    Mean          ppb            CD   \n",
      "577    549453          386  Ozone (O3)    Mean          ppb            CD   \n",
      "578    605356          386  Ozone (O3)    Mean          ppb            CD   \n",
      "582    121649          386  Ozone (O3)    Mean          ppb            CD   \n",
      "583    605312          386  Ozone (O3)    Mean          ppb            CD   \n",
      "\n",
      "    geo_join_id                        geo_place_name  \\\n",
      "576         408     Hillcrest and Fresh Meadows (CD8)   \n",
      "577         408     Hillcrest and Fresh Meadows (CD8)   \n",
      "578         408     Hillcrest and Fresh Meadows (CD8)   \n",
      "582         106  Stuyvesant Town and Turtle Bay (CD6)   \n",
      "583         106  Stuyvesant Town and Turtle Bay (CD6)   \n",
      "\n",
      "                         time_period               start_date data_value  \n",
      "576  2-Year Summer Average 2009-2010  2009-06-01T00:00:00.000      27.58  \n",
      "577                      Summer 2017  2017-06-01T00:00:00.000      29.95  \n",
      "578                      Summer 2018  2018-06-01T00:00:00.000      30.69  \n",
      "582  2-Year Summer Average 2009-2010  2009-06-01T00:00:00.000      20.72  \n",
      "583                      Summer 2018  2018-06-01T00:00:00.000      24.92  \n"
     ]
    }
   ],
   "source": [
    "ozone = results_df[results_df['name']=='Ozone (O3)']\n",
    "print(ozone.head())"
   ]
  },
  {
   "cell_type": "code",
   "execution_count": 27,
   "metadata": {},
   "outputs": [
    {
     "name": "stdout",
     "output_type": "stream",
     "text": [
      "    unique_id indicator_id                                             name  \\\n",
      "766    518895          648  Asthma emergency department visits due to PM2.5   \n",
      "767    628444          648  Asthma emergency department visits due to PM2.5   \n",
      "768    518888          648  Asthma emergency department visits due to PM2.5   \n",
      "769    518906          648  Asthma emergency department visits due to PM2.5   \n",
      "770    518926          648  Asthma emergency department visits due to PM2.5   \n",
      "\n",
      "                                  measure          measure_info geo_type_name  \\\n",
      "766  Estimated annual rate (under age 18)  per 100,000 children         UHF42   \n",
      "767  Estimated annual rate (under age 18)  per 100,000 children         UHF42   \n",
      "768  Estimated annual rate (under age 18)  per 100,000 children         UHF42   \n",
      "769  Estimated annual rate (under age 18)  per 100,000 children         UHF42   \n",
      "770  Estimated annual rate (under age 18)  per 100,000 children         UHF42   \n",
      "\n",
      "    geo_join_id           geo_place_name time_period               start_date  \\\n",
      "766         201               Greenpoint   2012-2014  2012-01-02T00:00:00.000   \n",
      "767         201               Greenpoint   2015-2017  2015-01-01T00:00:00.000   \n",
      "768         101  Kingsbridge - Riverdale   2012-2014  2012-01-02T00:00:00.000   \n",
      "769         301       Washington Heights   2012-2014  2012-01-02T00:00:00.000   \n",
      "770         501            Port Richmond   2012-2014  2012-01-02T00:00:00.000   \n",
      "\n",
      "    data_value  \n",
      "766      43.52  \n",
      "767      27.40  \n",
      "768      82.30  \n",
      "769     111.60  \n",
      "770      85.94  \n"
     ]
    }
   ],
   "source": [
    "ervisits = results_df[results_df['name']=='Asthma emergency department visits due to PM2.5']\n",
    "print(ervisits.head())\n",
    "\n",
    "#can do proportion hypothesis testing (z-test or t-test)"
   ]
  },
  {
   "cell_type": "code",
   "execution_count": 31,
   "metadata": {},
   "outputs": [
    {
     "name": "stdout",
     "output_type": "stream",
     "text": [
      "     unique_id indicator_id                                  name  \\\n",
      "1143    151584          661  Asthma hospitalizations due to Ozone   \n",
      "\n",
      "                              measure        measure_info geo_type_name  \\\n",
      "1143  Estimated annual rate (age 18+)  per 100,000 adults         UHF42   \n",
      "\n",
      "     geo_join_id                      geo_place_name time_period  \\\n",
      "1143         203  Bedford Stuyvesant - Crown Heights   2009-2011   \n",
      "\n",
      "                   start_date data_value  \n",
      "1143  2009-01-01T00:00:00.000      13.50  \n"
     ]
    }
   ],
   "source": [
    "asthma = results_df[results_df['name']=='Asthma hospitalizations due to Ozone']\n",
    "print(asthma)\n",
    "\n",
    "#not usuable, only one observation for Bed-Stuy"
   ]
  },
  {
   "cell_type": "code",
   "execution_count": 32,
   "metadata": {},
   "outputs": [
    {
     "name": "stdout",
     "output_type": "stream",
     "text": [
      "     unique_id indicator_id  \\\n",
      "1160    131539          650   \n",
      "1161    628535          650   \n",
      "1162    518796          650   \n",
      "1163    518814          650   \n",
      "1164    628555          650   \n",
      "\n",
      "                                                   name  \\\n",
      "1160  Respiratory hospitalizations due to PM2.5 (age...   \n",
      "1161  Respiratory hospitalizations due to PM2.5 (age...   \n",
      "1162  Respiratory hospitalizations due to PM2.5 (age...   \n",
      "1163  Respiratory hospitalizations due to PM2.5 (age...   \n",
      "1164  Respiratory hospitalizations due to PM2.5 (age...   \n",
      "\n",
      "                    measure        measure_info geo_type_name geo_join_id  \\\n",
      "1160  Estimated annual rate  per 100,000 adults         UHF42         405   \n",
      "1161  Estimated annual rate  per 100,000 adults         UHF42         103   \n",
      "1162  Estimated annual rate  per 100,000 adults         UHF42         105   \n",
      "1163  Estimated annual rate  per 100,000 adults         UHF42         305   \n",
      "1164  Estimated annual rate  per 100,000 adults         UHF42         305   \n",
      "\n",
      "                geo_place_name time_period               start_date data_value  \n",
      "1160  Ridgewood - Forest Hills   2009-2011  2009-01-01T00:00:00.000      12.40  \n",
      "1161        Fordham - Bronx Pk   2015-2017  2015-01-01T00:00:00.000      19.40  \n",
      "1162          Crotona -Tremont   2012-2014  2012-01-02T00:00:00.000      20.75  \n",
      "1163           Upper East Side   2012-2014  2012-01-02T00:00:00.000       8.38  \n",
      "1164           Upper East Side   2015-2017  2015-01-01T00:00:00.000       6.70  \n"
     ]
    }
   ],
   "source": [
    "respiratory = results_df[results_df['name']=='Respiratory hospitalizations due to PM2.5 (age 20+)']\n",
    "print(respiratory.head())\n",
    "\n",
    "##can do proportion hypothesis testing (z-test or t-test)"
   ]
  },
  {
   "cell_type": "markdown",
   "metadata": {},
   "source": [
    "## Option 3: Occupations of Mothers vs. Non-mothers\n",
    "\n",
    "https://www.dol.gov/agencies/wb/data/mothers-families/occupations-largestnumbermothers\n"
   ]
  },
  {
   "cell_type": "code",
   "execution_count": 34,
   "metadata": {},
   "outputs": [
    {
     "name": "stdout",
     "output_type": "stream",
     "text": [
      "                                          Occupation  Total employed  \\\n",
      "0                                  Registered nurses       2146030.0   \n",
      "1              Elementary and middle school teachers       1872384.0   \n",
      "2                                     Other managers       1267616.0   \n",
      "3  Secretaries and administrative assistants, exc...       1146996.0   \n",
      "4                   Customer service representatives       1188845.0   \n",
      "\n",
      "   Number of mothers  Number of non-mothers  Percent mothers  \\\n",
      "0          1151877.0               994153.0             53.7   \n",
      "1          1058116.0               814268.0             56.5   \n",
      "2           594585.0               673031.0             46.9   \n",
      "3           566257.0               580739.0             49.4   \n",
      "4           544073.0               644772.0             45.8   \n",
      "\n",
      "   Percent non-mothers  Mothers' representation gap (% mothers-%non-mothers)  \n",
      "0                 46.3                                                7.3     \n",
      "1                 43.5                                               13.0     \n",
      "2                 53.1                                               -6.2     \n",
      "3                 50.6                                               -1.3     \n",
      "4                 54.2                                               -8.5     \n"
     ]
    }
   ],
   "source": [
    "mothers = pd.read_csv('Occupations-employing-largest-number-mothers-2021.csv')\n",
    "print(mothers.head())"
   ]
  },
  {
   "cell_type": "markdown",
   "metadata": {},
   "source": [
    "## Option 4: Contraception Dataset"
   ]
  },
  {
   "cell_type": "code",
   "execution_count": 16,
   "metadata": {},
   "outputs": [
    {
     "name": "stdout",
     "output_type": "stream",
     "text": [
      "  Continent   Sub-Continent  Country  \\\n",
      "0    Africa  Eastern Africa  Burundi   \n",
      "1    Africa  Eastern Africa  Burundi   \n",
      "2    Africa  Eastern Africa  Burundi   \n",
      "3    Africa  Eastern Africa  Burundi   \n",
      "4    Africa  Eastern Africa  Comoros   \n",
      "\n",
      "   Percentage distribution of women aged 15-49  (per country)  \\\n",
      "0                                           0.650838            \n",
      "1                                           0.113709            \n",
      "2                                           0.024347            \n",
      "3                                           0.211106            \n",
      "4                                           0.666126            \n",
      "\n",
      "             Pregnancy intention Contraceptive availability  \\\n",
      "0  Not wanting to avoid pregancy             Not applicable   \n",
      "1     Wanting to avoid pregnancy                   Met need   \n",
      "2     Wanting to avoid pregnancy                 Unmet need   \n",
      "3     Wanting to avoid pregnancy                 Unmet need   \n",
      "4  Not wanting to avoid pregancy             Not applicable   \n",
      "\n",
      "        Contraceptive method  \\\n",
      "0             Not applicable   \n",
      "1       Using modern methods   \n",
      "2  Using traditional methods   \n",
      "3            Using no method   \n",
      "4             Not applicable   \n",
      "\n",
      "                                          categories  \n",
      "0  Not wanting to avoid pregancy, Not applicable,...  \n",
      "1  Wanting to avoid pregnancy, Met need, Using mo...  \n",
      "2  Wanting to avoid pregnancy, Unmet need, Using ...  \n",
      "3  Wanting to avoid pregnancy, Unmet need, Using ...  \n",
      "4  Not wanting to avoid pregancy, Not applicable,...  \n",
      "['Not wanting to avoid pregancy, Not applicable, Not applicable'\n",
      " 'Wanting to avoid pregnancy, Met need, Using modern methods'\n",
      " 'Wanting to avoid pregnancy, Unmet need, Using traditional methods'\n",
      " 'Wanting to avoid pregnancy, Unmet need, Using no method']\n"
     ]
    }
   ],
   "source": [
    "import pandas as pd\n",
    "import numpy as np\n",
    "\n",
    "df = pd.read_csv('VIZ5_September_Contraceptive_Use_dataset.csv',  encoding='latin-1')\n",
    "\n",
    "df['categories'] = df['Pregnancy intention'] + \", \" + df['Contraceptive availability'] + \", \" + df['Contraceptive method']\n",
    "#print(df)\n",
    "\n",
    "combination = df['categories'].unique()\n",
    "print(df.head())\n",
    "print(combination)"
   ]
  },
  {
   "cell_type": "markdown",
   "metadata": {},
   "source": [
    "There are 4 categories with distributions\n",
    "1. 'Not wanting to avoid pregancy, Not applicable, Not applicable'\n",
    "2. 'Wanting to avoid pregnancy, Met need, Using modern methods'\n",
    "3. 'Wanting to avoid pregnancy, Unmet need, Using traditional methods'\n",
    "4. 'Wanting to avoid pregnancy, Unmet need, Using no method'\n",
    "\n",
    "This dataset also uses dataset distributions. Would it be possible to convert distributions to frequencies?\n",
    "(I don't think is a feasible option unless we can convert the distributions to frequencies.)\n",
    "\n",
    "Are there more people who want to avoid pregnancy than people wanting to avoid pregnancy? (t test)\n",
    "The category is dependent on country? (chi squared test)\n",
    "The category is dependent on subcontient? (chi squared test)\n",
    "The category is dependent on continent? (chi squared test)"
   ]
  }
 ],
 "metadata": {
  "kernelspec": {
   "display_name": "base",
   "language": "python",
   "name": "python3"
  },
  "language_info": {
   "codemirror_mode": {
    "name": "ipython",
    "version": 3
   },
   "file_extension": ".py",
   "mimetype": "text/x-python",
   "name": "python",
   "nbconvert_exporter": "python",
   "pygments_lexer": "ipython3",
   "version": "3.10.13"
  }
 },
 "nbformat": 4,
 "nbformat_minor": 2
}
